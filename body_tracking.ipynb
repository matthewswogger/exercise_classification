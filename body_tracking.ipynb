{
 "cells": [
  {
   "cell_type": "code",
   "execution_count": null,
   "metadata": {
    "collapsed": true
   },
   "outputs": [],
   "source": [
    "import numpy as np\n",
    "import pandas as pd\n",
    "import cv2"
   ]
  },
  {
   "cell_type": "code",
   "execution_count": null,
   "metadata": {
    "collapsed": false
   },
   "outputs": [],
   "source": [
    "# face_cascade = cv2.CascadeClassifier('haarcascade_frontalface_default.xml')\n",
    "cap = cv2.VideoCapture(0)\n",
    "while True:\n",
    "    ret, img = cap.read()\n",
    "#     gray = cv2.cvtColor(img, cv2.COLOR_BGR2GRAY)\n",
    "#     faces = face_cascade.detectMultiScale(gray, 1.3, 5)\n",
    "#     for (x, y, w, h) in faces:\n",
    "#         cv2.rectangle(img, (x,y), (x+w,y+h), (255,0,0), 2)\n",
    "#         roi_gray = gray[y:y+h, x:x+w]\n",
    "#         roi_color = img[y:y+h, x:x+w]\n",
    "    edges = cv2.Canny(img,200,200)\n",
    "    cv2.imshow('edges', edges)\n",
    "    k = cv2.waitKey(30) & 0xff\n",
    "    if k == 27:\n",
    "        break\n",
    "        \n",
    "cap.release()\n",
    "cv2.destroyAllWindows()"
   ]
  },
  {
   "cell_type": "code",
   "execution_count": null,
   "metadata": {
    "collapsed": true
   },
   "outputs": [],
   "source": [
    "cv2.Canny?"
   ]
  },
  {
   "cell_type": "code",
   "execution_count": null,
   "metadata": {
    "collapsed": true
   },
   "outputs": [],
   "source": [
    "# cv2.createBackgroundSubtractorMOG()\n",
    "cv2.BackgroundSubtractorMOG2?"
   ]
  },
  {
   "cell_type": "code",
   "execution_count": 1,
   "metadata": {
    "collapsed": true
   },
   "outputs": [],
   "source": [
    "import cv2\n",
    "import numpy as np"
   ]
  },
  {
   "cell_type": "code",
   "execution_count": null,
   "metadata": {
    "collapsed": false
   },
   "outputs": [],
   "source": [
    "\n",
    "bgs = cv2.BackgroundSubtractorMOG2()\n",
    "capture = cv2.VideoCapture(0)\n",
    "cv2.namedWindow(\"Original\",1)\n",
    "cv2.namedWindow(\"Foreground\",1)\n",
    "while True:\n",
    "#     img = capture.read()[1]\n",
    "    ret, img = capture.read()\n",
    "#     cv2.imshow(\"Original\",img)\n",
    "    fgmask = bgs.apply(img)\n",
    "    foreground = cv2.bitwise_and(img,img,mask=fgmask)\n",
    "    cv2.imshow(\"Foreground\",foreground)\n",
    "#     k = cv2.waitKey(30) & 0xff\n",
    "    if cv2.waitKey >= 27:\n",
    "        cv2.destroyAllWindows()\n",
    "        capture.release()"
   ]
  }
 ],
 "metadata": {
  "kernelspec": {
   "display_name": "Python 2",
   "language": "python",
   "name": "python2"
  },
  "language_info": {
   "codemirror_mode": {
    "name": "ipython",
    "version": 2
   },
   "file_extension": ".py",
   "mimetype": "text/x-python",
   "name": "python",
   "nbconvert_exporter": "python",
   "pygments_lexer": "ipython2",
   "version": "2.7.11"
  },
  "widgets": {
   "state": {},
   "version": "1.1.2"
  }
 },
 "nbformat": 4,
 "nbformat_minor": 0
}
